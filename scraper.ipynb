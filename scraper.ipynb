{
 "cells": [
  {
   "cell_type": "code",
   "id": "initial_id",
   "metadata": {
    "collapsed": true,
    "ExecuteTime": {
     "end_time": "2024-05-29T19:10:06.958055Z",
     "start_time": "2024-05-29T19:10:06.675406Z"
    }
   },
   "source": [
    "import requests\n",
    "import csv\n",
    "\n",
    "from datetime import datetime\n",
    "from google.auth import default\n",
    "from google.auth.transport.requests import Request"
   ],
   "outputs": [],
   "execution_count": 1
  },
  {
   "metadata": {
    "ExecuteTime": {
     "end_time": "2024-05-29T19:10:06.961853Z",
     "start_time": "2024-05-29T19:10:06.958565Z"
    }
   },
   "cell_type": "code",
   "source": [
    "def get_gcloud_credential():\n",
    "    credentials, project = default()\n",
    "    if not credentials.valid:\n",
    "        if credentials.expired and credentials.refresh_token:\n",
    "            credentials.refresh(Request())\n",
    "    return credentials"
   ],
   "id": "134f80dce1bc421b",
   "outputs": [],
   "execution_count": 2
  },
  {
   "metadata": {
    "ExecuteTime": {
     "end_time": "2024-05-29T19:10:06.978981Z",
     "start_time": "2024-05-29T19:10:06.962860Z"
    }
   },
   "cell_type": "code",
   "source": [
    "def nearby_search(credentials, coordinate, radius):\n",
    "    api_url = 'https://places.googleapis.com/v1/places:searchNearby'\n",
    "    lat, long = [float(element) for element in coordinate.split(',')]\n",
    "    field = ('places.displayName,'\n",
    "             'places.types,'\n",
    "             'places.priceLevel,'\n",
    "             'places.rating')\n",
    "    \n",
    "    header = {\n",
    "        'Content-Type': 'application/json',\n",
    "        'Authorization': f'Bearer {credentials.token}',\n",
    "        'X-Goog-FieldMask': field,\n",
    "        'X-Goog-User-Project': credentials.quota_project_id\n",
    "    }\n",
    "    \n",
    "    payload = {\n",
    "        'locationRestriction': {\n",
    "            'circle': {\n",
    "                'center': {\n",
    "                    'latitude': lat,\n",
    "                    'longitude': long\n",
    "                },\n",
    "                'radius': radius\n",
    "            }\n",
    "        }\n",
    "    }\n",
    "    \n",
    "    response = requests.post(api_url, headers=header, json=payload)\n",
    "    if response.status_code == 200:\n",
    "        result = response.json()\n",
    "        return result\n",
    "    else:\n",
    "        print(f'Error: {response.status_code}')\n",
    "        print(response.json())\n",
    "        return None"
   ],
   "id": "9ae580cac5ccd510",
   "outputs": [],
   "execution_count": 3
  },
  {
   "metadata": {
    "ExecuteTime": {
     "end_time": "2024-05-29T19:10:06.986225Z",
     "start_time": "2024-05-29T19:10:06.979989Z"
    }
   },
   "cell_type": "code",
   "source": [
    "def dataset_maker(data):\n",
    "    now = datetime.now().strftime('%d-%m-%y_%H%M')\n",
    "    banned_types = ['point_of_interest', 'establishment']\n",
    "    file_path = f'dataset-output/export_{now}.csv'\n",
    "    dataset = []\n",
    "    \n",
    "    for item in data.get('places', []):\n",
    "        types = [t for t in item.get('types', []) if t not in banned_types]\n",
    "        row = {\n",
    "            'Name': item.get('displayName', {}).get('text', ),\n",
    "            'Types': ', '.join(types),\n",
    "            'Price Level': item.get('priceLevel', ),\n",
    "            'Rating': item.get('rating', )\n",
    "        }\n",
    "        dataset.append(row)\n",
    "    \n",
    "    with open(file_path, mode='w', newline='', encoding='utf-8') as file:\n",
    "        writer = csv.DictWriter(file, fieldnames=dataset[0].keys())\n",
    "        writer.writeheader()\n",
    "        writer.writerows(dataset)\n",
    "    \n",
    "    print(f'Dataset saved to {file_path}')"
   ],
   "id": "d61fc24f9cfdb05a",
   "outputs": [],
   "execution_count": 4
  },
  {
   "metadata": {
    "ExecuteTime": {
     "end_time": "2024-05-29T19:10:07.933383Z",
     "start_time": "2024-05-29T19:10:06.986737Z"
    }
   },
   "cell_type": "code",
   "source": [
    "coordination = '-8.67039555301166, 115.21251859347734'\n",
    "credential = get_gcloud_credential()\n",
    "circle_radius = 500\n",
    "\n",
    "places = nearby_search(credential, coordination, circle_radius)\n",
    "\n",
    "if places:\n",
    "    for place in places.get('places', []):\n",
    "        display_name = place.get('displayName', 'no displayname found')\n",
    "        print(f'Name        : {display_name.get(\"text\", \"name not found\")}')\n",
    "        print(f'Types       : {place.get(\"types\", \"types not found\")}')\n",
    "        print(f'Price Level : {place.get(\"priceLevel\", \"no price level found\")}')\n",
    "        print(f'Rating      : {place.get(\"rating\", \"rating not found\")}')\n",
    "        print('---------------------------------------------------------')\n",
    "else:\n",
    "    print('No places found')\n",
    "\n",
    "dataset_maker(places)"
   ],
   "id": "f9a08db1fb86b06f",
   "outputs": [
    {
     "name": "stdout",
     "output_type": "stream",
     "text": [
      "Name        : Level 21 Mall Bali\n",
      "Types       : ['shopping_mall', 'point_of_interest', 'establishment']\n",
      "Price Level : no price level found\n",
      "Rating      : 4.6\n",
      "---------------------------------------------------------\n",
      "Name        : Level 21 Cinema XXI\n",
      "Types       : ['movie_theater', 'point_of_interest', 'establishment']\n",
      "Price Level : no price level found\n",
      "Rating      : 4.6\n",
      "---------------------------------------------------------\n",
      "Name        : iBox | Teuku Umar Bali\n",
      "Types       : ['cell_phone_store', 'store', 'point_of_interest', 'establishment']\n",
      "Price Level : no price level found\n",
      "Rating      : 4\n",
      "---------------------------------------------------------\n",
      "Name        : Hotel Grand Santhi\n",
      "Types       : ['hotel', 'lodging', 'point_of_interest', 'establishment']\n",
      "Price Level : no price level found\n",
      "Rating      : 4.2\n",
      "---------------------------------------------------------\n",
      "Name        : Cellular World\n",
      "Types       : ['cell_phone_store', 'store', 'point_of_interest', 'establishment']\n",
      "Price Level : no price level found\n",
      "Rating      : 4.7\n",
      "---------------------------------------------------------\n",
      "Name        : Gramedia Teuku Umar\n",
      "Types       : ['book_store', 'store', 'point_of_interest', 'establishment']\n",
      "Price Level : no price level found\n",
      "Rating      : 4.6\n",
      "---------------------------------------------------------\n",
      "Name        : LSC Billiard & Cafe (by Koufu)\n",
      "Types       : ['sports_club', 'point_of_interest', 'establishment']\n",
      "Price Level : no price level found\n",
      "Rating      : 3.7\n",
      "---------------------------------------------------------\n",
      "Name        : Danau Tempe Cell (DTC)\n",
      "Types       : ['hotel', 'lodging', 'point_of_interest', 'establishment']\n",
      "Price Level : no price level found\n",
      "Rating      : 4.1\n",
      "---------------------------------------------------------\n",
      "Name        : XL Center Cellular World (XL-AXIS Center)\n",
      "Types       : ['telecommunications_service_provider', 'point_of_interest', 'establishment']\n",
      "Price Level : no price level found\n",
      "Rating      : 4.2\n",
      "---------------------------------------------------------\n",
      "Name        : The Ship\n",
      "Types       : ['sports_complex', 'event_venue', 'point_of_interest', 'establishment']\n",
      "Price Level : PRICE_LEVEL_MODERATE\n",
      "Rating      : 4.4\n",
      "---------------------------------------------------------\n",
      "Name        : Ayam Bakar Taliwang Baru\n",
      "Types       : ['restaurant', 'food', 'point_of_interest', 'establishment']\n",
      "Price Level : PRICE_LEVEL_MODERATE\n",
      "Rating      : 4.3\n",
      "---------------------------------------------------------\n",
      "Name        : Laboratorium Medis & Klinik PRAMITA\n",
      "Types       : ['medical_lab', 'health', 'point_of_interest', 'establishment']\n",
      "Price Level : no price level found\n",
      "Rating      : 4.5\n",
      "---------------------------------------------------------\n",
      "Name        : Bali Jaya Foodmarket\n",
      "Types       : ['supermarket', 'grocery_store', 'store', 'food', 'point_of_interest', 'establishment']\n",
      "Price Level : no price level found\n",
      "Rating      : 4.6\n",
      "---------------------------------------------------------\n",
      "Name        : Damri Corporation Denpasar\n",
      "Types       : ['point_of_interest', 'establishment']\n",
      "Price Level : no price level found\n",
      "Rating      : 4.2\n",
      "---------------------------------------------------------\n",
      "Name        : Apotek, Laboratorium Medis, dan Klinik Kimia Farma 34 Diponegoro\n",
      "Types       : ['pharmacy', 'medical_lab', 'health', 'store', 'point_of_interest', 'establishment']\n",
      "Price Level : no price level found\n",
      "Rating      : 2.8\n",
      "---------------------------------------------------------\n",
      "Name        : OYO 3261 Hotel Ratu\n",
      "Types       : ['hotel', 'lodging', 'point_of_interest', 'establishment']\n",
      "Price Level : no price level found\n",
      "Rating      : 3.8\n",
      "---------------------------------------------------------\n",
      "Name        : Obrigado Billiard\n",
      "Types       : ['sports_complex', 'event_venue', 'point_of_interest', 'establishment']\n",
      "Price Level : no price level found\n",
      "Rating      : 4.4\n",
      "---------------------------------------------------------\n",
      "Name        : Futsal City\n",
      "Types       : ['point_of_interest', 'establishment']\n",
      "Price Level : no price level found\n",
      "Rating      : 4.3\n",
      "---------------------------------------------------------\n",
      "Name        : HokBen Teuku Umar\n",
      "Types       : ['fast_food_restaurant', 'japanese_restaurant', 'restaurant', 'food', 'point_of_interest', 'establishment']\n",
      "Price Level : PRICE_LEVEL_MODERATE\n",
      "Rating      : 4.2\n",
      "---------------------------------------------------------\n",
      "Name        : Warung Babi Guling Swari\n",
      "Types       : ['restaurant', 'food', 'point_of_interest', 'establishment']\n",
      "Price Level : PRICE_LEVEL_MODERATE\n",
      "Rating      : 4.5\n",
      "---------------------------------------------------------\n",
      "Dataset saved to dataset-output/export_30-05-24_0210.csv\n"
     ]
    }
   ],
   "execution_count": 5
  },
  {
   "metadata": {
    "ExecuteTime": {
     "end_time": "2024-05-29T19:10:07.936229Z",
     "start_time": "2024-05-29T19:10:07.934395Z"
    }
   },
   "cell_type": "code",
   "source": [],
   "id": "22f96d425ae04908",
   "outputs": [],
   "execution_count": 5
  }
 ],
 "metadata": {
  "kernelspec": {
   "display_name": "Python 3",
   "language": "python",
   "name": "python3"
  },
  "language_info": {
   "codemirror_mode": {
    "name": "ipython",
    "version": 2
   },
   "file_extension": ".py",
   "mimetype": "text/x-python",
   "name": "python",
   "nbconvert_exporter": "python",
   "pygments_lexer": "ipython2",
   "version": "2.7.6"
  }
 },
 "nbformat": 4,
 "nbformat_minor": 5
}
