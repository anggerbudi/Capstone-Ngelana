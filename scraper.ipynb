{
 "cells": [
  {
   "cell_type": "code",
   "id": "initial_id",
   "metadata": {
    "collapsed": true,
    "ExecuteTime": {
     "end_time": "2024-05-31T22:49:04.643047Z",
     "start_time": "2024-05-31T22:49:04.039159Z"
    }
   },
   "source": [
    "import requests\n",
    "import csv\n",
    "import time\n",
    "import pandas as pd\n",
    "import numpy as np\n",
    "\n",
    "from datetime import datetime\n",
    "from google.auth import default\n",
    "from google.auth.transport.requests import Request"
   ],
   "outputs": [],
   "execution_count": 1
  },
  {
   "metadata": {
    "ExecuteTime": {
     "end_time": "2024-05-31T22:49:04.646916Z",
     "start_time": "2024-05-31T22:49:04.644423Z"
    }
   },
   "cell_type": "code",
   "source": [
    "def get_gcloud_credential():\n",
    "    credentials, project = default()\n",
    "    if not credentials.valid:\n",
    "        if credentials.expired and credentials.refresh_token:\n",
    "            credentials.refresh(Request())\n",
    "    return credentials"
   ],
   "id": "134f80dce1bc421b",
   "outputs": [],
   "execution_count": 2
  },
  {
   "metadata": {
    "ExecuteTime": {
     "end_time": "2024-05-31T22:49:04.655208Z",
     "start_time": "2024-05-31T22:49:04.647923Z"
    }
   },
   "cell_type": "code",
   "source": [
    "def circle_search(credentials, coordinate, radius):\n",
    "    api_url = 'https://places.googleapis.com/v1/places:searchNearby'\n",
    "    lat, long = [float(element) for element in coordinate.strip('()').split(',')]\n",
    "    # lat, long = coordinate[0], coordinate[1]\n",
    "    field = ('places.displayName,'\n",
    "             'places.types,'\n",
    "             'places.priceLevel,'\n",
    "             'places.rating')\n",
    "    \n",
    "    header = {\n",
    "        'Content-Type': 'application/json',\n",
    "        'Authorization': f'Bearer {credentials.token}',\n",
    "        'X-Goog-FieldMask': field,\n",
    "        'X-Goog-User-Project': credentials.quota_project_id\n",
    "    }\n",
    "    \n",
    "    payload = {\n",
    "        'locationRestriction': {\n",
    "            'circle': {\n",
    "                'center': {\n",
    "                    'latitude': lat,\n",
    "                    'longitude': long\n",
    "                },\n",
    "                'radius': radius\n",
    "            }\n",
    "        }\n",
    "    }\n",
    "    \n",
    "    response = requests.post(api_url, headers=header, json=payload)\n",
    "    if response.status_code == 200:\n",
    "        result = response.json()\n",
    "        return result\n",
    "    else:\n",
    "        print(f'Error: {response.status_code}')\n",
    "        print(response.json())\n",
    "        return None"
   ],
   "id": "9ae580cac5ccd510",
   "outputs": [],
   "execution_count": 3
  },
  {
   "metadata": {
    "ExecuteTime": {
     "end_time": "2024-05-31T22:49:04.662640Z",
     "start_time": "2024-05-31T22:49:04.655713Z"
    }
   },
   "cell_type": "code",
   "source": [
    "def dataset_maker(data):\n",
    "    now = datetime.now().strftime('%d-%m-%y_%H%M%S')\n",
    "    banned_types = ['point_of_interest', 'establishment']\n",
    "    file_path = f'dataset-output/export_{now}.csv'\n",
    "    dataset = []\n",
    "    \n",
    "    for item in data.get('places', []):\n",
    "        types = [t for t in item.get('types', []) if t not in banned_types]\n",
    "        row = {\n",
    "            'Name': item.get('displayName', {}).get('text', ),\n",
    "            'Types': ', '.join(types),\n",
    "            'Price Level': item.get('priceLevel', ),\n",
    "            'Rating': item.get('rating', )\n",
    "        }\n",
    "        dataset.append(row)\n",
    "    \n",
    "    with open(file_path, mode='w', newline='', encoding='utf-8') as file:\n",
    "        writer = csv.DictWriter(file, fieldnames=dataset[0].keys())\n",
    "        writer.writeheader()\n",
    "        writer.writerows(dataset)\n",
    "    \n",
    "    print(f'Dataset saved to {file_path}')"
   ],
   "id": "d61fc24f9cfdb05a",
   "outputs": [],
   "execution_count": 4
  },
  {
   "metadata": {
    "ExecuteTime": {
     "end_time": "2024-05-31T22:49:04.671858Z",
     "start_time": "2024-05-31T22:49:04.663920Z"
    }
   },
   "cell_type": "code",
   "source": [
    "# coordination = '-8.67039555301166, 115.21251859347734'\n",
    "# credential = get_gcloud_credential()\n",
    "# circle_radius = 500\n",
    "# \n",
    "# places = circle_search(credential, coordination, circle_radius)\n",
    "# \n",
    "# if places:\n",
    "#     for place in places.get('places', []):\n",
    "#         display_name = place.get('displayName', 'no displayname found')\n",
    "#         print(f'Name        : {display_name.get(\"text\", \"name not found\")}')\n",
    "#         print(f'Types       : {place.get(\"types\", \"types not found\")}')\n",
    "#         print(f'Price Level : {place.get(\"priceLevel\", \"no price level found\")}')\n",
    "#         print(f'Rating      : {place.get(\"rating\", \"rating not found\")}')\n",
    "#         print('---------------------------------------------------------')\n",
    "# else:\n",
    "#     print('No places found')\n",
    "# \n",
    "# dataset_maker(places)"
   ],
   "id": "f9a08db1fb86b06f",
   "outputs": [],
   "execution_count": 5
  },
  {
   "metadata": {
    "ExecuteTime": {
     "end_time": "2024-05-31T22:49:17.461310Z",
     "start_time": "2024-05-31T22:49:04.672364Z"
    }
   },
   "cell_type": "code",
   "source": [
    "coord = pd.read_csv('coordinates/hexagonal-packing-v1.csv')\n",
    "radius = 500\n",
    "credential = get_gcloud_credential()\n",
    "\n",
    "\n",
    "for i in range(10):\n",
    "    places = circle_search(credential, coord['coordinate'][i], radius)\n",
    "    dataset_maker(places)\n",
    "    time.sleep(1)"
   ],
   "id": "22f96d425ae04908",
   "outputs": [
    {
     "name": "stdout",
     "output_type": "stream",
     "text": [
      "Dataset saved to dataset-output/export_01-06-24_054905.csv\n",
      "Dataset saved to dataset-output/export_01-06-24_054906.csv\n",
      "Dataset saved to dataset-output/export_01-06-24_054908.csv\n",
      "Dataset saved to dataset-output/export_01-06-24_054909.csv\n",
      "Dataset saved to dataset-output/export_01-06-24_054910.csv\n",
      "Dataset saved to dataset-output/export_01-06-24_054911.csv\n",
      "Dataset saved to dataset-output/export_01-06-24_054912.csv\n",
      "Dataset saved to dataset-output/export_01-06-24_054914.csv\n",
      "Dataset saved to dataset-output/export_01-06-24_054915.csv\n",
      "Dataset saved to dataset-output/export_01-06-24_054916.csv\n"
     ]
    }
   ],
   "execution_count": 6
  },
  {
   "metadata": {
    "ExecuteTime": {
     "end_time": "2024-05-31T22:49:17.465285Z",
     "start_time": "2024-05-31T22:49:17.462332Z"
    }
   },
   "cell_type": "code",
   "source": [
    "print(coord['coordinate'][0])"
   ],
   "id": "970185d013a4b69b",
   "outputs": [
    {
     "name": "stdout",
     "output_type": "stream",
     "text": [
      "(-8.43778787037442, 115.04614895353889)\n"
     ]
    }
   ],
   "execution_count": 7
  },
  {
   "metadata": {
    "ExecuteTime": {
     "end_time": "2024-05-31T22:49:17.477350Z",
     "start_time": "2024-05-31T22:49:17.466407Z"
    }
   },
   "cell_type": "code",
   "source": [
    "print(np.array(coord['coordinate'][0][1]))"
   ],
   "id": "90f65d2cd7eda3e4",
   "outputs": [
    {
     "name": "stdout",
     "output_type": "stream",
     "text": [
      "-\n"
     ]
    }
   ],
   "execution_count": 8
  },
  {
   "metadata": {
    "ExecuteTime": {
     "end_time": "2024-05-31T22:49:17.480055Z",
     "start_time": "2024-05-31T22:49:17.478358Z"
    }
   },
   "cell_type": "code",
   "source": [],
   "id": "df29e4559fbad0cd",
   "outputs": [],
   "execution_count": 8
  }
 ],
 "metadata": {
  "kernelspec": {
   "display_name": "Python 3",
   "language": "python",
   "name": "python3"
  },
  "language_info": {
   "codemirror_mode": {
    "name": "ipython",
    "version": 2
   },
   "file_extension": ".py",
   "mimetype": "text/x-python",
   "name": "python",
   "nbconvert_exporter": "python",
   "pygments_lexer": "ipython2",
   "version": "2.7.6"
  }
 },
 "nbformat": 4,
 "nbformat_minor": 5
}
