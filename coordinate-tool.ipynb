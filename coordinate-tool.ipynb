{
 "cells": [
  {
   "cell_type": "code",
   "id": "initial_id",
   "metadata": {
    "collapsed": true
   },
   "source": [
    "import csv\n",
    "\n",
    "from geopy.distance import geodesic"
   ],
   "outputs": [],
   "execution_count": null
  },
  {
   "metadata": {},
   "cell_type": "code",
   "source": [
    "def get_row_coord(nw_coord, side_len, count, coord_data):\n",
    "    if count == 0:\n",
    "        return coord_data\n",
    "    else:\n",
    "        NW = nw_coord\n",
    "        NE = geodesic(meters=side_len).destination(NW, 90)\n",
    "        SE = geodesic(meters=side_len).destination(NE, 180)\n",
    "        SW = geodesic(meters=side_len).destination(SE, 270)\n",
    "        \n",
    "        row = {\n",
    "            \"North-West\": NW,\n",
    "            \"North-East\": (NE.latitude, NE.longitude),\n",
    "            \"South-East\": (SE.latitude, SE.longitude),\n",
    "            \"South-West\": (SW.latitude, SW.longitude)\n",
    "        }\n",
    "        coord_data.append(row)\n",
    "        return get_row_coord((NE.latitude, NE.longitude), side_len, count-1, coord_data)"
   ],
   "id": "90e336ba8879629a",
   "outputs": [],
   "execution_count": null
  },
  {
   "metadata": {},
   "cell_type": "code",
   "source": [
    "def coordinates_mapper(start_nw, side_len, x_count, y_count, coord_data):\n",
    "    if y_count == 0:\n",
    "        return coord_data\n",
    "    else:\n",
    "        NW = start_nw\n",
    "        NE = geodesic(meters=side_len).destination(NW, 90)\n",
    "        SE = geodesic(meters=side_len).destination(NE, 180)\n",
    "        SW = geodesic(meters=side_len).destination(SE, 270)\n",
    "        \n",
    "        coord_data = get_row_coord(start_nw, side_len, x_count, coord_data)\n",
    "        return coordinates_mapper((SW.latitude, SW.longitude), side_len, x_count, y_count-1, coord_data)"
   ],
   "id": "74a58c9448d3a900",
   "outputs": [],
   "execution_count": null
  },
  {
   "metadata": {},
   "cell_type": "code",
   "source": [
    "def data_to_csv(data):\n",
    "    file_path = 'coordinates-list/square-test_v2.csv'\n",
    "    with open(file_path, mode='w', newline='', encoding='utf-8') as file:\n",
    "        writer = csv.DictWriter(file, fieldnames=data[0].keys())\n",
    "        writer.writeheader()\n",
    "        for row in data:\n",
    "            writer.writerow(row)\n",
    "        print(f\"Coordinates saved to {file_path}\")"
   ],
   "id": "6bea4522c14bfe44",
   "outputs": [],
   "execution_count": null
  },
  {
   "metadata": {},
   "cell_type": "code",
   "source": [
    "data = []\n",
    "\n",
    "coordinates_mapper((-8.429957624116502, 115.03252775649212), 500, 10, 10, data)"
   ],
   "id": "9d8deda39f179bf3",
   "outputs": [],
   "execution_count": null
  },
  {
   "metadata": {},
   "cell_type": "code",
   "source": "data_to_csv(data)",
   "id": "792122d386a46e8d",
   "outputs": [],
   "execution_count": null
  },
  {
   "metadata": {},
   "cell_type": "code",
   "source": "",
   "id": "227f9fda9fb461c6",
   "outputs": [],
   "execution_count": null
  }
 ],
 "metadata": {
  "kernelspec": {
   "display_name": "Python 3",
   "language": "python",
   "name": "python3"
  },
  "language_info": {
   "codemirror_mode": {
    "name": "ipython",
    "version": 2
   },
   "file_extension": ".py",
   "mimetype": "text/x-python",
   "name": "python",
   "nbconvert_exporter": "python",
   "pygments_lexer": "ipython2",
   "version": "2.7.6"
  }
 },
 "nbformat": 4,
 "nbformat_minor": 5
}
