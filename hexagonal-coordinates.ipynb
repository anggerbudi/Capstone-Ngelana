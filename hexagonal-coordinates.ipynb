{
 "cells": [
  {
   "cell_type": "code",
   "id": "initial_id",
   "metadata": {
    "collapsed": true
   },
   "source": [
    "import math\n",
    "import csv\n",
    "import folium\n",
    "\n",
    "from geopy.distance import geodesic"
   ],
   "outputs": [],
   "execution_count": null
  },
  {
   "metadata": {},
   "cell_type": "code",
   "source": [
    "def get_hexagon_row_coord(start_coord, radius, count, coord_data):\n",
    "    if count== 0:\n",
    "        return coord_data\n",
    "    else:\n",
    "        next_coord = geodesic(meters=radius*2).destination(start_coord, 90)\n",
    "        row = {\n",
    "            'coordinate': (next_coord.latitude, next_coord.longitude),\n",
    "        }\n",
    "        coord_data.append(row)\n",
    "        return get_hexagon_row_coord(next_coord, radius, count-1, coord_data)"
   ],
   "id": "358f96a83572c938",
   "outputs": [],
   "execution_count": null
  },
  {
   "metadata": {},
   "cell_type": "code",
   "source": [
    "def row_mapper(start_coord, radius, row_count, height_count, coord_data):\n",
    "    height = radius * math.sqrt(3)\n",
    "    if height_count == 0:\n",
    "        return coord_data\n",
    "    elif height_count % 2 != 0:\n",
    "        next_coord = geodesic(meters=radius).destination(\n",
    "            geodesic(meters=height).destination(start_coord, 180), 90\n",
    "        )\n",
    "        coord_data = get_hexagon_row_coord(next_coord, radius, row_count, coord_data)\n",
    "    else:\n",
    "        next_coord = geodesic(meters=radius).destination(\n",
    "            geodesic(meters=height).destination(start_coord, 180), 270\n",
    "        )\n",
    "        coord_data = get_hexagon_row_coord(next_coord, radius, row_count, coord_data)\n",
    "    return row_mapper(next_coord, radius, row_count, height_count-1, coord_data)"
   ],
   "id": "91447288d1ee0d82",
   "outputs": [],
   "execution_count": null
  },
  {
   "metadata": {},
   "cell_type": "code",
   "source": [
    "def data_to_csv(data):\n",
    "    file_path = 'coordinates/hexagonal-packing-v1.csv'\n",
    "    with open(file_path, mode='w', newline='', encoding='utf-8') as file:\n",
    "        writer = csv.DictWriter(file, fieldnames=data[0].keys())\n",
    "        writer.writeheader()\n",
    "        for row in data:\n",
    "            writer.writerow(row)\n",
    "        print(f\"Coordinates saved to {file_path}\")"
   ],
   "id": "6d74bc1dae4639aa",
   "outputs": [],
   "execution_count": null
  },
  {
   "metadata": {},
   "cell_type": "code",
   "source": [
    "r = 500\n",
    "start_point = (-8.429957624116502, 115.03252775649212)\n",
    "row_count = 50\n",
    "height_count = 17\n",
    "coordinates = row_mapper(start_point, r, row_count, height_count, [])"
   ],
   "id": "4a3eef7f2fd8e0bd",
   "outputs": [],
   "execution_count": null
  },
  {
   "metadata": {},
   "cell_type": "code",
   "source": "print(coordinates)",
   "id": "38ee9359562cc0d2",
   "outputs": [],
   "execution_count": null
  },
  {
   "metadata": {},
   "cell_type": "code",
   "source": "data_to_csv(coordinates)",
   "id": "f9bb547ce0e47ed7",
   "outputs": [],
   "execution_count": null
  },
  {
   "metadata": {},
   "cell_type": "code",
   "source": [
    "world_map = folium.Map(location=start_point, zoom_start=15)\n",
    "\n",
    "for coord in coordinates:\n",
    "    folium.Marker(\n",
    "        location=coord['coordinate'],\n",
    "        icon=folium.Icon(color='blue', icon='info-sign')\n",
    "    ).add_to(world_map)"
   ],
   "id": "e884eb887a443914",
   "outputs": [],
   "execution_count": null
  },
  {
   "metadata": {},
   "cell_type": "code",
   "source": "world_map.save('test-map.html')",
   "id": "bd78ef66a795cc39",
   "outputs": [],
   "execution_count": null
  },
  {
   "metadata": {},
   "cell_type": "code",
   "source": "",
   "id": "18e017d41d0f393",
   "outputs": [],
   "execution_count": null
  }
 ],
 "metadata": {
  "kernelspec": {
   "display_name": "Python 3",
   "language": "python",
   "name": "python3"
  },
  "language_info": {
   "codemirror_mode": {
    "name": "ipython",
    "version": 2
   },
   "file_extension": ".py",
   "mimetype": "text/x-python",
   "name": "python",
   "nbconvert_exporter": "python",
   "pygments_lexer": "ipython2",
   "version": "2.7.6"
  }
 },
 "nbformat": 4,
 "nbformat_minor": 5
}
