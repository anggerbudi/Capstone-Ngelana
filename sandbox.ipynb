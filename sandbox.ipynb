{
 "cells": [
  {
   "cell_type": "code",
   "id": "initial_id",
   "metadata": {
    "collapsed": true,
    "ExecuteTime": {
     "end_time": "2024-05-31T22:53:01.908583Z",
     "start_time": "2024-05-31T22:53:01.649158Z"
    }
   },
   "source": [
    "import pandas as pd\n",
    "import os"
   ],
   "outputs": [],
   "execution_count": 1
  },
  {
   "metadata": {
    "ExecuteTime": {
     "end_time": "2024-05-31T22:53:01.913445Z",
     "start_time": "2024-05-31T22:53:01.909588Z"
    }
   },
   "cell_type": "code",
   "source": [
    "csv_path = 'places-dataset'\n",
    "all_files = os.listdir(csv_path)\n",
    "print(all_files)"
   ],
   "id": "4b6cb4e57f04fc93",
   "outputs": [
    {
     "name": "stdout",
     "output_type": "stream",
     "text": [
      "['export_01-06-24_054905.csv', 'export_01-06-24_054906.csv', 'export_01-06-24_054908.csv', 'export_01-06-24_054909.csv', 'export_01-06-24_054910.csv', 'export_01-06-24_054911.csv', 'export_01-06-24_054912.csv', 'export_01-06-24_054914.csv', 'export_01-06-24_054915.csv', 'export_01-06-24_054916.csv']\n"
     ]
    }
   ],
   "execution_count": 2
  },
  {
   "metadata": {
    "ExecuteTime": {
     "end_time": "2024-05-31T22:53:01.920989Z",
     "start_time": "2024-05-31T22:53:01.913445Z"
    }
   },
   "cell_type": "code",
   "source": "csv_files = [file for file in all_files if file.endswith('.csv')]",
   "id": "445163b6023dbe3b",
   "outputs": [],
   "execution_count": 3
  },
  {
   "metadata": {
    "ExecuteTime": {
     "end_time": "2024-05-31T22:53:57.328933Z",
     "start_time": "2024-05-31T22:53:57.314896Z"
    }
   },
   "cell_type": "code",
   "source": [
    "df_array = []\n",
    "\n",
    "for files in csv_files:\n",
    "    file_path = os.path.join(csv_path, files)\n",
    "    df = pd.read_csv(file_path)\n",
    "    df_array.append(df)\n",
    "    \n",
    "combined_df = pd.concat(df_array, ignore_index=True)\n",
    "combined_df"
   ],
   "id": "b0c0e2183c83d9bd",
   "outputs": [
    {
     "data": {
      "text/plain": [
       "                                       Name  \\\n",
       "0                    SMP Negeri 2 Selemadeg   \n",
       "1                  Kantor DESA PUPUAN SAWAH   \n",
       "2                                Adi Rama 2   \n",
       "3                           Jelih foto copy   \n",
       "4                  SD Negeri 1 Pupuan Sawah   \n",
       "..                                      ...   \n",
       "126  Bank BRI ATM - UNIT BRI REJASA TABANAN   \n",
       "127                     ATM BRI Unit Rejasa   \n",
       "128                          UD Amerta Sari   \n",
       "129        Pasar Rakyat Desa Adat Penatahan   \n",
       "130                     Apotek Maitra Farma   \n",
       "\n",
       "                                                 Types  Price Level  Rating  \n",
       "0                                               school          NaN     5.0  \n",
       "1                              local_government_office          NaN     5.0  \n",
       "2                                           farm, food          NaN     5.0  \n",
       "3                                                store          NaN     5.0  \n",
       "4                               primary_school, school          NaN     NaN  \n",
       "..                                                 ...          ...     ...  \n",
       "126                                       atm, finance          NaN     NaN  \n",
       "127                                       atm, finance          NaN     5.0  \n",
       "128  furniture_store, home_improvement_store, home_...          NaN     4.8  \n",
       "129                                             market          NaN     4.0  \n",
       "130                            pharmacy, health, store          NaN     5.0  \n",
       "\n",
       "[131 rows x 4 columns]"
      ],
      "text/html": [
       "<div>\n",
       "<style scoped>\n",
       "    .dataframe tbody tr th:only-of-type {\n",
       "        vertical-align: middle;\n",
       "    }\n",
       "\n",
       "    .dataframe tbody tr th {\n",
       "        vertical-align: top;\n",
       "    }\n",
       "\n",
       "    .dataframe thead th {\n",
       "        text-align: right;\n",
       "    }\n",
       "</style>\n",
       "<table border=\"1\" class=\"dataframe\">\n",
       "  <thead>\n",
       "    <tr style=\"text-align: right;\">\n",
       "      <th></th>\n",
       "      <th>Name</th>\n",
       "      <th>Types</th>\n",
       "      <th>Price Level</th>\n",
       "      <th>Rating</th>\n",
       "    </tr>\n",
       "  </thead>\n",
       "  <tbody>\n",
       "    <tr>\n",
       "      <th>0</th>\n",
       "      <td>SMP Negeri 2 Selemadeg</td>\n",
       "      <td>school</td>\n",
       "      <td>NaN</td>\n",
       "      <td>5.0</td>\n",
       "    </tr>\n",
       "    <tr>\n",
       "      <th>1</th>\n",
       "      <td>Kantor DESA PUPUAN SAWAH</td>\n",
       "      <td>local_government_office</td>\n",
       "      <td>NaN</td>\n",
       "      <td>5.0</td>\n",
       "    </tr>\n",
       "    <tr>\n",
       "      <th>2</th>\n",
       "      <td>Adi Rama 2</td>\n",
       "      <td>farm, food</td>\n",
       "      <td>NaN</td>\n",
       "      <td>5.0</td>\n",
       "    </tr>\n",
       "    <tr>\n",
       "      <th>3</th>\n",
       "      <td>Jelih foto copy</td>\n",
       "      <td>store</td>\n",
       "      <td>NaN</td>\n",
       "      <td>5.0</td>\n",
       "    </tr>\n",
       "    <tr>\n",
       "      <th>4</th>\n",
       "      <td>SD Negeri 1 Pupuan Sawah</td>\n",
       "      <td>primary_school, school</td>\n",
       "      <td>NaN</td>\n",
       "      <td>NaN</td>\n",
       "    </tr>\n",
       "    <tr>\n",
       "      <th>...</th>\n",
       "      <td>...</td>\n",
       "      <td>...</td>\n",
       "      <td>...</td>\n",
       "      <td>...</td>\n",
       "    </tr>\n",
       "    <tr>\n",
       "      <th>126</th>\n",
       "      <td>Bank BRI ATM - UNIT BRI REJASA TABANAN</td>\n",
       "      <td>atm, finance</td>\n",
       "      <td>NaN</td>\n",
       "      <td>NaN</td>\n",
       "    </tr>\n",
       "    <tr>\n",
       "      <th>127</th>\n",
       "      <td>ATM BRI Unit Rejasa</td>\n",
       "      <td>atm, finance</td>\n",
       "      <td>NaN</td>\n",
       "      <td>5.0</td>\n",
       "    </tr>\n",
       "    <tr>\n",
       "      <th>128</th>\n",
       "      <td>UD Amerta Sari</td>\n",
       "      <td>furniture_store, home_improvement_store, home_...</td>\n",
       "      <td>NaN</td>\n",
       "      <td>4.8</td>\n",
       "    </tr>\n",
       "    <tr>\n",
       "      <th>129</th>\n",
       "      <td>Pasar Rakyat Desa Adat Penatahan</td>\n",
       "      <td>market</td>\n",
       "      <td>NaN</td>\n",
       "      <td>4.0</td>\n",
       "    </tr>\n",
       "    <tr>\n",
       "      <th>130</th>\n",
       "      <td>Apotek Maitra Farma</td>\n",
       "      <td>pharmacy, health, store</td>\n",
       "      <td>NaN</td>\n",
       "      <td>5.0</td>\n",
       "    </tr>\n",
       "  </tbody>\n",
       "</table>\n",
       "<p>131 rows × 4 columns</p>\n",
       "</div>"
      ]
     },
     "execution_count": 5,
     "metadata": {},
     "output_type": "execute_result"
    }
   ],
   "execution_count": 5
  },
  {
   "metadata": {
    "ExecuteTime": {
     "end_time": "2024-05-31T22:54:06.092540Z",
     "start_time": "2024-05-31T22:54:06.076888Z"
    }
   },
   "cell_type": "code",
   "source": "combined_df.to_csv('combined_csv.csv', index=False)",
   "id": "338382d02bc89ad4",
   "outputs": [],
   "execution_count": 6
  },
  {
   "metadata": {},
   "cell_type": "code",
   "outputs": [],
   "execution_count": null,
   "source": "",
   "id": "4ddf2571565513c"
  }
 ],
 "metadata": {
  "kernelspec": {
   "display_name": "Python 3",
   "language": "python",
   "name": "python3"
  },
  "language_info": {
   "codemirror_mode": {
    "name": "ipython",
    "version": 2
   },
   "file_extension": ".py",
   "mimetype": "text/x-python",
   "name": "python",
   "nbconvert_exporter": "python",
   "pygments_lexer": "ipython2",
   "version": "2.7.6"
  }
 },
 "nbformat": 4,
 "nbformat_minor": 5
}
