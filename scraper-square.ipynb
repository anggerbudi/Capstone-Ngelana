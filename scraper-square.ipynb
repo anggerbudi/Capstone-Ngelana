{
 "cells": [
  {
   "cell_type": "code",
   "id": "initial_id",
   "metadata": {
    "collapsed": true,
    "ExecuteTime": {
     "end_time": "2024-05-30T12:25:00.302628Z",
     "start_time": "2024-05-30T12:24:59.873655Z"
    }
   },
   "source": [
    "import requests\n",
    "import csv\n",
    "\n",
    "from datetime import datetime\n",
    "from google.auth import default\n",
    "from google.auth.transport.requests import Request"
   ],
   "outputs": [],
   "execution_count": 1
  },
  {
   "metadata": {
    "ExecuteTime": {
     "end_time": "2024-05-30T12:25:00.308365Z",
     "start_time": "2024-05-30T12:25:00.304749Z"
    }
   },
   "cell_type": "code",
   "source": [
    "def get_gcloud_credential():\n",
    "    credentials, project = default()\n",
    "    if not credentials.valid:\n",
    "        if credentials.expired and credentials.refresh_token:\n",
    "            credentials.refresh(Request())\n",
    "    return credentials"
   ],
   "id": "d40213149cb92e67",
   "outputs": [],
   "execution_count": 2
  },
  {
   "metadata": {
    "ExecuteTime": {
     "end_time": "2024-05-30T12:25:01.091168Z",
     "start_time": "2024-05-30T12:25:01.084040Z"
    }
   },
   "cell_type": "code",
   "source": [
    "def square_search(credentials, sw_coord, ne_coord):\n",
    "    api_url = 'https://places.googleapis.com/v1/places:searchNearby'\n",
    "    sw_lat, sw_long = [float(element) for element in sw_coord.split(',')]\n",
    "    ne_lat, ne_long = [float(element) for element in ne_coord.split(',')]\n",
    "    field = ('places.displayName,'\n",
    "             'places.types,'\n",
    "             'places.priceLevel,'\n",
    "             'places.rating')\n",
    "    \n",
    "    header = {\n",
    "        'Content-Type': 'application/json',\n",
    "        'Authorization': f'Bearer {credentials.token}',\n",
    "        'X-Goog-FieldMask': field,\n",
    "        'X-Goog-User-Project': credentials.quota_project_id\n",
    "    }\n",
    "    \n",
    "    payload = {\n",
    "        'locationRestriction': {\n",
    "            'rectangle': {\n",
    "                'southwest': {\n",
    "                    'latitude': sw_lat,\n",
    "                    'longitude': sw_long\n",
    "                },\n",
    "                'northeast': {\n",
    "                    'latitude': ne_lat,\n",
    "                    'longitude': ne_long\n",
    "                },\n",
    "            }\n",
    "        }\n",
    "    }\n",
    "    \n",
    "    response = requests.post(api_url, headers=header, json=payload)\n",
    "    if response.status_code == 200:\n",
    "        result = response.json()\n",
    "        return result\n",
    "    else:\n",
    "        print(f'Error: {response.status_code}')\n",
    "        print(response.json())\n",
    "        return None"
   ],
   "id": "77fab60cc18255e9",
   "outputs": [],
   "execution_count": 3
  },
  {
   "metadata": {
    "ExecuteTime": {
     "end_time": "2024-05-30T12:25:01.679163Z",
     "start_time": "2024-05-30T12:25:01.671650Z"
    }
   },
   "cell_type": "code",
   "source": [
    "def dataset_maker(data):\n",
    "    now = datetime.now().strftime('%d-%m-%y_%H%M')\n",
    "    banned_types = ['point_of_interest', 'establishment']\n",
    "    file_path = f'dataset-output/square_{now}.csv'\n",
    "    dataset = []\n",
    "    \n",
    "    for item in data.get('places', []):\n",
    "        types = [t for t in item.get('types', []) if t not in banned_types]\n",
    "        row = {\n",
    "            'Name': item.get('displayName', {}).get('text', ),\n",
    "            'Types': ', '.join(types),\n",
    "            'Price Level': item.get('priceLevel', ),\n",
    "            'Rating': item.get('rating', )\n",
    "        }\n",
    "        dataset.append(row)\n",
    "    \n",
    "    with open(file_path, mode='w', newline='', encoding='utf-8') as file:\n",
    "        writer = csv.DictWriter(file, fieldnames=dataset[0].keys())\n",
    "        writer.writeheader()\n",
    "        writer.writerows(dataset)\n",
    "    \n",
    "    print(f'Dataset saved to {file_path}')"
   ],
   "id": "f7969827ee6e49c7",
   "outputs": [],
   "execution_count": 4
  },
  {
   "metadata": {
    "ExecuteTime": {
     "end_time": "2024-05-30T12:26:44.677018Z",
     "start_time": "2024-05-30T12:26:43.210395Z"
    }
   },
   "cell_type": "code",
   "source": [
    "credential = get_gcloud_credential()\n",
    "\n",
    "sw = '-8.434478442624776, 115.0325277037326'\n",
    "ne = '-8.429957597856815, 115.03706806410705'\n",
    "\n",
    "places = square_search(credential, sw, ne)\n",
    "\n",
    "if places:\n",
    "    for place in places.get('places', []):\n",
    "        display_name = place.get('displayName', 'no displayname found')\n",
    "        print(f'Name        : {display_name.get(\"text\", \"name not found\")}')\n",
    "        print(f'Types       : {place.get(\"types\", \"types not found\")}')\n",
    "        print(f'Price Level : {place.get(\"priceLevel\", \"no price level found\")}')\n",
    "        print(f'Rating      : {place.get(\"rating\", \"rating not found\")}')\n",
    "        print('---------------------------------------------------------')\n",
    "else:\n",
    "    print('No places found')\n",
    "\n",
    "dataset_maker(places)"
   ],
   "id": "4579fe78eb3c7508",
   "outputs": [
    {
     "name": "stdout",
     "output_type": "stream",
     "text": [
      "Error: 400\n",
      "{'error': {'code': 400, 'message': 'Location restriction unspecified.', 'status': 'INVALID_ARGUMENT'}}\n",
      "No places found\n"
     ]
    },
    {
     "ename": "AttributeError",
     "evalue": "'NoneType' object has no attribute 'get'",
     "output_type": "error",
     "traceback": [
      "\u001B[1;31m---------------------------------------------------------------------------\u001B[0m",
      "\u001B[1;31mAttributeError\u001B[0m                            Traceback (most recent call last)",
      "Cell \u001B[1;32mIn[7], line 19\u001B[0m\n\u001B[0;32m     16\u001B[0m \u001B[38;5;28;01melse\u001B[39;00m:\n\u001B[0;32m     17\u001B[0m     \u001B[38;5;28mprint\u001B[39m(\u001B[38;5;124m'\u001B[39m\u001B[38;5;124mNo places found\u001B[39m\u001B[38;5;124m'\u001B[39m)\n\u001B[1;32m---> 19\u001B[0m \u001B[43mdataset_maker\u001B[49m\u001B[43m(\u001B[49m\u001B[43mplaces\u001B[49m\u001B[43m)\u001B[49m\n",
      "Cell \u001B[1;32mIn[4], line 7\u001B[0m, in \u001B[0;36mdataset_maker\u001B[1;34m(data)\u001B[0m\n\u001B[0;32m      4\u001B[0m file_path \u001B[38;5;241m=\u001B[39m \u001B[38;5;124mf\u001B[39m\u001B[38;5;124m'\u001B[39m\u001B[38;5;124mdataset-output/square_\u001B[39m\u001B[38;5;132;01m{\u001B[39;00mnow\u001B[38;5;132;01m}\u001B[39;00m\u001B[38;5;124m.csv\u001B[39m\u001B[38;5;124m'\u001B[39m\n\u001B[0;32m      5\u001B[0m dataset \u001B[38;5;241m=\u001B[39m []\n\u001B[1;32m----> 7\u001B[0m \u001B[38;5;28;01mfor\u001B[39;00m item \u001B[38;5;129;01min\u001B[39;00m \u001B[43mdata\u001B[49m\u001B[38;5;241;43m.\u001B[39;49m\u001B[43mget\u001B[49m(\u001B[38;5;124m'\u001B[39m\u001B[38;5;124mplaces\u001B[39m\u001B[38;5;124m'\u001B[39m, []):\n\u001B[0;32m      8\u001B[0m     types \u001B[38;5;241m=\u001B[39m [t \u001B[38;5;28;01mfor\u001B[39;00m t \u001B[38;5;129;01min\u001B[39;00m item\u001B[38;5;241m.\u001B[39mget(\u001B[38;5;124m'\u001B[39m\u001B[38;5;124mtypes\u001B[39m\u001B[38;5;124m'\u001B[39m, []) \u001B[38;5;28;01mif\u001B[39;00m t \u001B[38;5;129;01mnot\u001B[39;00m \u001B[38;5;129;01min\u001B[39;00m banned_types]\n\u001B[0;32m      9\u001B[0m     row \u001B[38;5;241m=\u001B[39m {\n\u001B[0;32m     10\u001B[0m         \u001B[38;5;124m'\u001B[39m\u001B[38;5;124mName\u001B[39m\u001B[38;5;124m'\u001B[39m: item\u001B[38;5;241m.\u001B[39mget(\u001B[38;5;124m'\u001B[39m\u001B[38;5;124mdisplayName\u001B[39m\u001B[38;5;124m'\u001B[39m, {})\u001B[38;5;241m.\u001B[39mget(\u001B[38;5;124m'\u001B[39m\u001B[38;5;124mtext\u001B[39m\u001B[38;5;124m'\u001B[39m, ),\n\u001B[0;32m     11\u001B[0m         \u001B[38;5;124m'\u001B[39m\u001B[38;5;124mTypes\u001B[39m\u001B[38;5;124m'\u001B[39m: \u001B[38;5;124m'\u001B[39m\u001B[38;5;124m, \u001B[39m\u001B[38;5;124m'\u001B[39m\u001B[38;5;241m.\u001B[39mjoin(types),\n\u001B[0;32m     12\u001B[0m         \u001B[38;5;124m'\u001B[39m\u001B[38;5;124mPrice Level\u001B[39m\u001B[38;5;124m'\u001B[39m: item\u001B[38;5;241m.\u001B[39mget(\u001B[38;5;124m'\u001B[39m\u001B[38;5;124mpriceLevel\u001B[39m\u001B[38;5;124m'\u001B[39m, ),\n\u001B[0;32m     13\u001B[0m         \u001B[38;5;124m'\u001B[39m\u001B[38;5;124mRating\u001B[39m\u001B[38;5;124m'\u001B[39m: item\u001B[38;5;241m.\u001B[39mget(\u001B[38;5;124m'\u001B[39m\u001B[38;5;124mrating\u001B[39m\u001B[38;5;124m'\u001B[39m, )\n\u001B[0;32m     14\u001B[0m     }\n",
      "\u001B[1;31mAttributeError\u001B[0m: 'NoneType' object has no attribute 'get'"
     ]
    }
   ],
   "execution_count": 7
  },
  {
   "metadata": {},
   "cell_type": "code",
   "outputs": [],
   "execution_count": null,
   "source": "",
   "id": "37861f767fcef8bf"
  }
 ],
 "metadata": {
  "kernelspec": {
   "display_name": "Python 3",
   "language": "python",
   "name": "python3"
  },
  "language_info": {
   "codemirror_mode": {
    "name": "ipython",
    "version": 2
   },
   "file_extension": ".py",
   "mimetype": "text/x-python",
   "name": "python",
   "nbconvert_exporter": "python",
   "pygments_lexer": "ipython2",
   "version": "2.7.6"
  }
 },
 "nbformat": 4,
 "nbformat_minor": 5
}
